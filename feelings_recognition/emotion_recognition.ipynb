{
  "nbformat": 4,
  "nbformat_minor": 0,
  "metadata": {
    "colab": {
      "name": "Untitled2.ipynb",
      "provenance": []
    },
    "kernelspec": {
      "name": "python3",
      "display_name": "Python 3"
    },
    "language_info": {
      "name": "python"
    },
    "accelerator": "GPU",
    "gpuClass": "standard"
  },
  "cells": [
    {
      "cell_type": "markdown",
      "source": [
        "**Запуск модели в режиме оффлайн**"
      ],
      "metadata": {
        "id": "gn6eNFk0ExRH"
      }
    },
    {
      "cell_type": "code",
      "execution_count": 14,
      "metadata": {
        "id": "ibfv1WGYxTYJ"
      },
      "outputs": [],
      "source": [
        "#Подключение необходимых библиотек:\n",
        "import pandas as pd\n",
        "import numpy as np\n",
        "from keras.models import Sequential\n",
        "from keras.layers.core import Flatten, Dense, Dropout\n",
        "from keras.layers.convolutional import Convolution2D, MaxPooling2D, ZeroPadding2D\n",
        "from tensorflow.keras.optimizers import SGD\n",
        "from keras.utils import np_utils\n",
        "from tqdm.notebook import tqdm"
      ]
    },
    {
      "cell_type": "code",
      "source": [
        "#Загрузка данных:\n",
        "emotion_data = pd.read_csv('/content/drive/MyDrive/fer2013.csv')\n",
        "emotion_data.head()"
      ],
      "metadata": {
        "colab": {
          "base_uri": "https://localhost:8080/",
          "height": 206
        },
        "id": "mRNmJswM0QCo",
        "outputId": "da962674-a487-427d-a36b-2accc52c5190"
      },
      "execution_count": 7,
      "outputs": [
        {
          "output_type": "execute_result",
          "data": {
            "text/plain": [
              "   emotion                                             pixels     Usage\n",
              "0        0  70 80 82 72 58 58 60 63 54 58 60 48 89 115 121...  Training\n",
              "1        0  151 150 147 155 148 133 111 140 170 174 182 15...  Training\n",
              "2        2  231 212 156 164 174 138 161 173 182 200 106 38...  Training\n",
              "3        4  24 32 36 30 32 23 19 20 30 41 21 22 32 34 21 1...  Training\n",
              "4        6  4 0 0 0 0 0 0 0 0 0 0 0 3 15 23 28 48 50 58 84...  Training"
            ],
            "text/html": [
              "\n",
              "  <div id=\"df-36580411-f79e-4308-9cf4-bf6c758733a5\">\n",
              "    <div class=\"colab-df-container\">\n",
              "      <div>\n",
              "<style scoped>\n",
              "    .dataframe tbody tr th:only-of-type {\n",
              "        vertical-align: middle;\n",
              "    }\n",
              "\n",
              "    .dataframe tbody tr th {\n",
              "        vertical-align: top;\n",
              "    }\n",
              "\n",
              "    .dataframe thead th {\n",
              "        text-align: right;\n",
              "    }\n",
              "</style>\n",
              "<table border=\"1\" class=\"dataframe\">\n",
              "  <thead>\n",
              "    <tr style=\"text-align: right;\">\n",
              "      <th></th>\n",
              "      <th>emotion</th>\n",
              "      <th>pixels</th>\n",
              "      <th>Usage</th>\n",
              "    </tr>\n",
              "  </thead>\n",
              "  <tbody>\n",
              "    <tr>\n",
              "      <th>0</th>\n",
              "      <td>0</td>\n",
              "      <td>70 80 82 72 58 58 60 63 54 58 60 48 89 115 121...</td>\n",
              "      <td>Training</td>\n",
              "    </tr>\n",
              "    <tr>\n",
              "      <th>1</th>\n",
              "      <td>0</td>\n",
              "      <td>151 150 147 155 148 133 111 140 170 174 182 15...</td>\n",
              "      <td>Training</td>\n",
              "    </tr>\n",
              "    <tr>\n",
              "      <th>2</th>\n",
              "      <td>2</td>\n",
              "      <td>231 212 156 164 174 138 161 173 182 200 106 38...</td>\n",
              "      <td>Training</td>\n",
              "    </tr>\n",
              "    <tr>\n",
              "      <th>3</th>\n",
              "      <td>4</td>\n",
              "      <td>24 32 36 30 32 23 19 20 30 41 21 22 32 34 21 1...</td>\n",
              "      <td>Training</td>\n",
              "    </tr>\n",
              "    <tr>\n",
              "      <th>4</th>\n",
              "      <td>6</td>\n",
              "      <td>4 0 0 0 0 0 0 0 0 0 0 0 3 15 23 28 48 50 58 84...</td>\n",
              "      <td>Training</td>\n",
              "    </tr>\n",
              "  </tbody>\n",
              "</table>\n",
              "</div>\n",
              "      <button class=\"colab-df-convert\" onclick=\"convertToInteractive('df-36580411-f79e-4308-9cf4-bf6c758733a5')\"\n",
              "              title=\"Convert this dataframe to an interactive table.\"\n",
              "              style=\"display:none;\">\n",
              "        \n",
              "  <svg xmlns=\"http://www.w3.org/2000/svg\" height=\"24px\"viewBox=\"0 0 24 24\"\n",
              "       width=\"24px\">\n",
              "    <path d=\"M0 0h24v24H0V0z\" fill=\"none\"/>\n",
              "    <path d=\"M18.56 5.44l.94 2.06.94-2.06 2.06-.94-2.06-.94-.94-2.06-.94 2.06-2.06.94zm-11 1L8.5 8.5l.94-2.06 2.06-.94-2.06-.94L8.5 2.5l-.94 2.06-2.06.94zm10 10l.94 2.06.94-2.06 2.06-.94-2.06-.94-.94-2.06-.94 2.06-2.06.94z\"/><path d=\"M17.41 7.96l-1.37-1.37c-.4-.4-.92-.59-1.43-.59-.52 0-1.04.2-1.43.59L10.3 9.45l-7.72 7.72c-.78.78-.78 2.05 0 2.83L4 21.41c.39.39.9.59 1.41.59.51 0 1.02-.2 1.41-.59l7.78-7.78 2.81-2.81c.8-.78.8-2.07 0-2.86zM5.41 20L4 18.59l7.72-7.72 1.47 1.35L5.41 20z\"/>\n",
              "  </svg>\n",
              "      </button>\n",
              "      \n",
              "  <style>\n",
              "    .colab-df-container {\n",
              "      display:flex;\n",
              "      flex-wrap:wrap;\n",
              "      gap: 12px;\n",
              "    }\n",
              "\n",
              "    .colab-df-convert {\n",
              "      background-color: #E8F0FE;\n",
              "      border: none;\n",
              "      border-radius: 50%;\n",
              "      cursor: pointer;\n",
              "      display: none;\n",
              "      fill: #1967D2;\n",
              "      height: 32px;\n",
              "      padding: 0 0 0 0;\n",
              "      width: 32px;\n",
              "    }\n",
              "\n",
              "    .colab-df-convert:hover {\n",
              "      background-color: #E2EBFA;\n",
              "      box-shadow: 0px 1px 2px rgba(60, 64, 67, 0.3), 0px 1px 3px 1px rgba(60, 64, 67, 0.15);\n",
              "      fill: #174EA6;\n",
              "    }\n",
              "\n",
              "    [theme=dark] .colab-df-convert {\n",
              "      background-color: #3B4455;\n",
              "      fill: #D2E3FC;\n",
              "    }\n",
              "\n",
              "    [theme=dark] .colab-df-convert:hover {\n",
              "      background-color: #434B5C;\n",
              "      box-shadow: 0px 1px 3px 1px rgba(0, 0, 0, 0.15);\n",
              "      filter: drop-shadow(0px 1px 2px rgba(0, 0, 0, 0.3));\n",
              "      fill: #FFFFFF;\n",
              "    }\n",
              "  </style>\n",
              "\n",
              "      <script>\n",
              "        const buttonEl =\n",
              "          document.querySelector('#df-36580411-f79e-4308-9cf4-bf6c758733a5 button.colab-df-convert');\n",
              "        buttonEl.style.display =\n",
              "          google.colab.kernel.accessAllowed ? 'block' : 'none';\n",
              "\n",
              "        async function convertToInteractive(key) {\n",
              "          const element = document.querySelector('#df-36580411-f79e-4308-9cf4-bf6c758733a5');\n",
              "          const dataTable =\n",
              "            await google.colab.kernel.invokeFunction('convertToInteractive',\n",
              "                                                     [key], {});\n",
              "          if (!dataTable) return;\n",
              "\n",
              "          const docLinkHtml = 'Like what you see? Visit the ' +\n",
              "            '<a target=\"_blank\" href=https://colab.research.google.com/notebooks/data_table.ipynb>data table notebook</a>'\n",
              "            + ' to learn more about interactive tables.';\n",
              "          element.innerHTML = '';\n",
              "          dataTable['output_type'] = 'display_data';\n",
              "          await google.colab.output.renderOutput(dataTable, element);\n",
              "          const docLink = document.createElement('div');\n",
              "          docLink.innerHTML = docLinkHtml;\n",
              "          element.appendChild(docLink);\n",
              "        }\n",
              "      </script>\n",
              "    </div>\n",
              "  </div>\n",
              "  "
            ]
          },
          "metadata": {},
          "execution_count": 7
        }
      ]
    },
    {
      "cell_type": "code",
      "source": [
        "#Разбитие датасета на обучающую и тестовую выборки:\n",
        "X_train = []\n",
        "y_train = []\n",
        "X_test = []\n",
        "y_test = []\n",
        "\n",
        "for index, row in emotion_data.iterrows():\n",
        "  k = row['pixels'].split(\" \")\n",
        "  kint = []\n",
        "  for i in k:\n",
        "    kint.append(int(i))\n",
        "  if row['Usage'] == 'Training':\n",
        "    X_train.append(np.array(kint))\n",
        "    y_train.append(row['emotion'])\n",
        "  elif row['Usage'] == 'PublicTest':\n",
        "    X_test.append(np.array(kint))\n",
        "    y_test.append(row['emotion'])"
      ],
      "metadata": {
        "id": "eRNGdogI9lnX"
      },
      "execution_count": 8,
      "outputs": []
    },
    {
      "cell_type": "code",
      "source": [
        "#Преобразование массивов с пикселями в категориальные:\n",
        "X_train = np.array(X_train)\n",
        "y_train = np.array(y_train)\n",
        "X_test = np.array(X_test)\n",
        "y_test = np.array(y_test)\n",
        "\n",
        "X_train = X_train.reshape(X_train.shape[0], 48, 48, 1)\n",
        "X_test = X_test.reshape(X_test.shape[0], 48, 48, 1)\n",
        "\n",
        "y_train = np_utils.to_categorical(y_train, num_classes=7)\n",
        "y_test = np_utils.to_categorical(y_test, num_classes=7)"
      ],
      "metadata": {
        "id": "0jl_77jG-jlW"
      },
      "execution_count": 9,
      "outputs": []
    },
    {
      "cell_type": "code",
      "source": [
        "#Формирование нейронной сети:\n",
        "model = Sequential()\n",
        "model.add(ZeroPadding2D( (1,1), input_shape=(48,48,1)))\n",
        "model.add(Convolution2D(64, (3, 3), activation='relu'))\n",
        "model.add (ZeroPadding2D((1,1)))\n",
        "model.add(Convolution2D(64, (3, 3), activation='relu'))\n",
        "model.add(MaxPooling2D((2,2), strides=(2,2)))\n",
        "model.add(ZeroPadding2D((1,1)))\n",
        "model.add(Convolution2D(128, (3, 3), activation='relu'))\n",
        "model.add(ZeroPadding2D((1,1)))\n",
        "model.add(Convolution2D(128, (3, 3), activation='relu'))\n",
        "model.add(MaxPooling2D((2,2), strides=(2,2)))\n",
        "model.add(ZeroPadding2D((1,1)))\n",
        "model.add(Convolution2D(256, (3, 3), activation='relu'))\n",
        "model.add (ZeroPadding2D((1,1)))\n",
        "model.add(Convolution2D(256, (3, 3), activation='relu'))\n",
        "model.add(ZeroPadding2D((1,1)))\n",
        "model.add(Convolution2D(256, (3, 3), activation='relu'))\n",
        "model.add(MaxPooling2D((2,2), strides=(2,2)))\n",
        "model.add (ZeroPadding2D((1,1)))\n",
        "model.add(Convolution2D(512, (3, 3), activation='relu'))\n",
        "model.add (ZeroPadding2D((1,1)))\n",
        "model.add(Convolution2D(512, (3, 3), activation='relu'))\n",
        "\n",
        "model.add(Flatten())\n",
        "model.add(Dropout(0.5))\n",
        "model.add(Dropout(0.5))\n",
        "model.add(Dense(4096, activation='relu'))\n",
        "model.add(Dense(4096, activation='relu'))\n",
        "model.add(Dense(7, activation='softmax'))\n",
        "\n",
        "model.compile (optimizer=\"sgd\", loss='categorical_crossentropy', \n",
        "               metrics=['accuracy'])\n",
        "\n",
        "model.fit(X_train, y_train, batch_size = 40, \n",
        "          epochs = 40, verbose = 1, validation_data=(X_test, y_test))"
      ],
      "metadata": {
        "colab": {
          "base_uri": "https://localhost:8080/"
        },
        "id": "lGiVMwPi_KiI",
        "outputId": "dbc111ff-2a93-4aba-f1d4-3bd6d3aa494f"
      },
      "execution_count": 15,
      "outputs": [
        {
          "output_type": "stream",
          "name": "stdout",
          "text": [
            "Epoch 1/40\n",
            "718/718 [==============================] - 37s 51ms/step - loss: 1.8250 - accuracy: 0.2473 - val_loss: 1.8063 - val_accuracy: 0.2497\n",
            "Epoch 2/40\n",
            "718/718 [==============================] - 38s 53ms/step - loss: 1.7495 - accuracy: 0.2925 - val_loss: 1.6269 - val_accuracy: 0.3675\n",
            "Epoch 3/40\n",
            "718/718 [==============================] - 36s 50ms/step - loss: 1.5779 - accuracy: 0.3863 - val_loss: 1.4841 - val_accuracy: 0.4338\n",
            "Epoch 4/40\n",
            "718/718 [==============================] - 39s 54ms/step - loss: 1.4640 - accuracy: 0.4405 - val_loss: 1.4009 - val_accuracy: 0.4661\n",
            "Epoch 5/40\n",
            "718/718 [==============================] - 37s 52ms/step - loss: 1.3623 - accuracy: 0.4769 - val_loss: 1.3081 - val_accuracy: 0.4960\n",
            "Epoch 6/40\n",
            "718/718 [==============================] - 38s 53ms/step - loss: 1.2822 - accuracy: 0.5131 - val_loss: 1.2969 - val_accuracy: 0.5063\n",
            "Epoch 7/40\n",
            "718/718 [==============================] - 37s 52ms/step - loss: 1.2152 - accuracy: 0.5355 - val_loss: 1.2702 - val_accuracy: 0.5352\n",
            "Epoch 8/40\n",
            "718/718 [==============================] - 36s 51ms/step - loss: 1.1543 - accuracy: 0.5610 - val_loss: 1.1821 - val_accuracy: 0.5525\n",
            "Epoch 9/40\n",
            "718/718 [==============================] - 37s 51ms/step - loss: 1.0978 - accuracy: 0.5887 - val_loss: 1.1838 - val_accuracy: 0.5648\n",
            "Epoch 10/40\n",
            "718/718 [==============================] - 36s 50ms/step - loss: 1.0456 - accuracy: 0.6061 - val_loss: 1.1441 - val_accuracy: 0.5751\n",
            "Epoch 11/40\n",
            "718/718 [==============================] - 37s 51ms/step - loss: 0.9926 - accuracy: 0.6285 - val_loss: 1.1604 - val_accuracy: 0.5809\n",
            "Epoch 12/40\n",
            "718/718 [==============================] - 36s 50ms/step - loss: 0.9356 - accuracy: 0.6495 - val_loss: 1.1486 - val_accuracy: 0.5754\n",
            "Epoch 13/40\n",
            "718/718 [==============================] - 37s 51ms/step - loss: 0.8735 - accuracy: 0.6742 - val_loss: 1.1930 - val_accuracy: 0.5851\n",
            "Epoch 14/40\n",
            "718/718 [==============================] - 36s 50ms/step - loss: 0.8154 - accuracy: 0.6952 - val_loss: 1.1976 - val_accuracy: 0.5924\n",
            "Epoch 15/40\n",
            "718/718 [==============================] - 37s 52ms/step - loss: 0.7523 - accuracy: 0.7210 - val_loss: 1.2090 - val_accuracy: 0.5979\n",
            "Epoch 16/40\n",
            "718/718 [==============================] - 37s 51ms/step - loss: 0.6846 - accuracy: 0.7466 - val_loss: 1.2394 - val_accuracy: 0.6018\n",
            "Epoch 17/40\n",
            "718/718 [==============================] - 36s 50ms/step - loss: 0.6168 - accuracy: 0.7709 - val_loss: 1.4015 - val_accuracy: 0.5756\n",
            "Epoch 18/40\n",
            "718/718 [==============================] - 36s 50ms/step - loss: 0.5635 - accuracy: 0.7910 - val_loss: 1.4235 - val_accuracy: 0.5854\n",
            "Epoch 19/40\n",
            "718/718 [==============================] - 36s 50ms/step - loss: 0.4988 - accuracy: 0.8140 - val_loss: 1.5820 - val_accuracy: 0.5834\n",
            "Epoch 20/40\n",
            "718/718 [==============================] - 36s 50ms/step - loss: 0.4493 - accuracy: 0.8345 - val_loss: 1.8595 - val_accuracy: 0.5798\n",
            "Epoch 21/40\n",
            "718/718 [==============================] - 36s 50ms/step - loss: 0.3973 - accuracy: 0.8559 - val_loss: 1.7827 - val_accuracy: 0.5690\n",
            "Epoch 22/40\n",
            "718/718 [==============================] - 36s 50ms/step - loss: 0.3482 - accuracy: 0.8732 - val_loss: 1.7890 - val_accuracy: 0.5673\n",
            "Epoch 23/40\n",
            "718/718 [==============================] - 37s 51ms/step - loss: 0.3032 - accuracy: 0.8934 - val_loss: 1.8878 - val_accuracy: 0.5795\n",
            "Epoch 24/40\n",
            "718/718 [==============================] - 36s 49ms/step - loss: 0.2786 - accuracy: 0.9007 - val_loss: 1.8833 - val_accuracy: 0.5907\n",
            "Epoch 25/40\n",
            "718/718 [==============================] - 36s 50ms/step - loss: 0.2424 - accuracy: 0.9146 - val_loss: 1.8620 - val_accuracy: 0.5921\n",
            "Epoch 26/40\n",
            "718/718 [==============================] - 36s 50ms/step - loss: 0.2124 - accuracy: 0.9265 - val_loss: 2.0230 - val_accuracy: 0.5809\n",
            "Epoch 27/40\n",
            "718/718 [==============================] - 36s 50ms/step - loss: 0.1947 - accuracy: 0.9342 - val_loss: 2.0135 - val_accuracy: 0.5871\n",
            "Epoch 28/40\n",
            "718/718 [==============================] - 36s 50ms/step - loss: 0.1622 - accuracy: 0.9465 - val_loss: 2.2526 - val_accuracy: 0.5890\n",
            "Epoch 29/40\n",
            "718/718 [==============================] - 37s 51ms/step - loss: 0.1570 - accuracy: 0.9477 - val_loss: 2.2079 - val_accuracy: 0.5832\n",
            "Epoch 30/40\n",
            "718/718 [==============================] - 36s 50ms/step - loss: 0.1257 - accuracy: 0.9606 - val_loss: 2.7397 - val_accuracy: 0.5790\n",
            "Epoch 31/40\n",
            "718/718 [==============================] - 36s 50ms/step - loss: 0.1251 - accuracy: 0.9603 - val_loss: 2.2911 - val_accuracy: 0.5826\n",
            "Epoch 32/40\n",
            "718/718 [==============================] - 35s 49ms/step - loss: 0.1201 - accuracy: 0.9611 - val_loss: 2.6617 - val_accuracy: 0.5960\n",
            "Epoch 33/40\n",
            "718/718 [==============================] - 37s 51ms/step - loss: 0.1075 - accuracy: 0.9662 - val_loss: 2.4865 - val_accuracy: 0.6018\n",
            "Epoch 34/40\n",
            "718/718 [==============================] - 37s 51ms/step - loss: 0.0857 - accuracy: 0.9733 - val_loss: 2.3674 - val_accuracy: 0.5954\n",
            "Epoch 35/40\n",
            "718/718 [==============================] - 37s 51ms/step - loss: 0.0813 - accuracy: 0.9762 - val_loss: 3.0325 - val_accuracy: 0.5940\n",
            "Epoch 36/40\n",
            "718/718 [==============================] - 36s 49ms/step - loss: 0.0776 - accuracy: 0.9772 - val_loss: 2.6825 - val_accuracy: 0.5991\n",
            "Epoch 37/40\n",
            "718/718 [==============================] - 36s 50ms/step - loss: 0.0653 - accuracy: 0.9808 - val_loss: 2.4714 - val_accuracy: 0.6063\n",
            "Epoch 38/40\n",
            "718/718 [==============================] - 36s 49ms/step - loss: 0.0545 - accuracy: 0.9851 - val_loss: 2.7765 - val_accuracy: 0.5893\n",
            "Epoch 39/40\n",
            "718/718 [==============================] - 35s 49ms/step - loss: 0.0540 - accuracy: 0.9846 - val_loss: 2.7072 - val_accuracy: 0.6135\n",
            "Epoch 40/40\n",
            "718/718 [==============================] - 37s 51ms/step - loss: 0.0567 - accuracy: 0.9838 - val_loss: 2.4988 - val_accuracy: 0.5965\n"
          ]
        },
        {
          "output_type": "execute_result",
          "data": {
            "text/plain": [
              "<keras.callbacks.History at 0x7f6c2e422950>"
            ]
          },
          "metadata": {},
          "execution_count": 15
        }
      ]
    },
    {
      "cell_type": "code",
      "source": [
        "#Оценка работы модели: \n",
        "loss_and_metrics = model.evaluate(X_test, y_test)\n",
        "print(loss_and_metrics)"
      ],
      "metadata": {
        "colab": {
          "base_uri": "https://localhost:8080/"
        },
        "id": "YNauyFKiDgr1",
        "outputId": "e8068e7a-6e56-4ae3-c80d-5febbb0d2b5b"
      },
      "execution_count": 16,
      "outputs": [
        {
          "output_type": "stream",
          "name": "stdout",
          "text": [
            "113/113 [==============================] - 2s 14ms/step - loss: 2.4988 - accuracy: 0.5965\n",
            "[2.498751640319824, 0.5965449810028076]\n"
          ]
        }
      ]
    },
    {
      "cell_type": "code",
      "source": [
        "#Сохранение весов модели:\n",
        "model_json = model.to_json()\n",
        "with open(\"model.json\", \"w\") as json_file:\n",
        "  json_file.write(model_json)\n",
        "  model.save_weights(\"model.h5\")\n",
        "print(\"Saved model to disk\")"
      ],
      "metadata": {
        "colab": {
          "base_uri": "https://localhost:8080/"
        },
        "id": "MCFqQNe_ERrJ",
        "outputId": "0124b435-73f8-4a7c-e5ac-f10bd0c68b5c"
      },
      "execution_count": 17,
      "outputs": [
        {
          "output_type": "stream",
          "name": "stdout",
          "text": [
            "Saved model to disk\n"
          ]
        }
      ]
    }
  ]
}